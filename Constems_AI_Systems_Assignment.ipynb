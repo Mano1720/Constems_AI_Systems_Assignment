{
  "nbformat": 4,
  "nbformat_minor": 0,
  "metadata": {
    "colab": {
      "name": "Constems-AI Systems Assignment",
      "provenance": [],
      "authorship_tag": "ABX9TyMwbnA3T5rvpvyYrzfvXsQM",
      "include_colab_link": true
    },
    "kernelspec": {
      "name": "python3",
      "display_name": "Python 3"
    },
    "language_info": {
      "name": "python"
    }
  },
  "cells": [
    {
      "cell_type": "markdown",
      "metadata": {
        "id": "view-in-github",
        "colab_type": "text"
      },
      "source": [
        "<a href=\"https://colab.research.google.com/github/Mano1720/Constems_AI_Systems_Assignment/blob/main/Constems_AI_Systems_Assignment.ipynb\" target=\"_parent\"><img src=\"https://colab.research.google.com/assets/colab-badge.svg\" alt=\"Open In Colab\"/></a>"
      ]
    },
    {
      "cell_type": "markdown",
      "source": [
        "**Name**:*K Manoj*\n",
        "\n",
        "**Gmail**:kmanojreddy20@gmail.com\n",
        "\n",
        "**Mob No**:7349663377"
      ],
      "metadata": {
        "id": "GWVufo_ISyvh"
      }
    },
    {
      "cell_type": "code",
      "source": [
        "import matplotlib.pyplot as plt\n",
        "import seaborn as sns\n",
        "def rng(m=4, a=5, c=3):\n",
        "  rng.current = (a/m+rng.current+c)\n",
        "  return round(rng.current,1)\n",
        "\n",
        "rng.current = 3\n",
        "n_iter =20\n",
        "rng_list=[]\n",
        "for i in range(n_iter):\n",
        "  print (rng())\n",
        "  rng_list.append(rng())\n",
        "\n",
        "x=rng_list\n",
        "y=len(rng_list)\n",
        "sns.relplot(x,y)\n",
        "\n",
        "INTERVAL= 10 \n",
        "circle_points= 0\n",
        "square_points= 0\n",
        "for i in range(INTERVAL**2):\n",
        "    rand_x= x\n",
        "    rand_y=y\n",
        "    for i in rng_list:\n",
        "      origin_dist= i**2 + len(rng_list)**2\n",
        "    if origin_dist<= 1:\n",
        "        circle_points+= 1\n",
        "    square_points+= 1\n",
        "    pi = 4* circle_points/ square_points\n",
        "print(\"Final Estimation of Pi=\", pi) "
      ],
      "metadata": {
        "colab": {
          "base_uri": "https://localhost:8080/",
          "height": 800
        },
        "id": "nUB-dmJ-P0dP",
        "outputId": "afa3d780-a5c0-4011-d404-70ffa92a3d88"
      },
      "execution_count": null,
      "outputs": [
        {
          "output_type": "stream",
          "name": "stdout",
          "text": [
            "7.2\n",
            "15.8\n",
            "24.2\n",
            "32.8\n",
            "41.2\n",
            "49.8\n",
            "58.2\n",
            "66.8\n",
            "75.2\n",
            "83.8\n",
            "92.2\n",
            "100.8\n",
            "109.2\n",
            "117.8\n",
            "126.2\n",
            "134.8\n",
            "143.2\n",
            "151.8\n",
            "160.2\n",
            "168.8\n",
            "Final Estimation of Pi= 0.0\n"
          ]
        },
        {
          "output_type": "stream",
          "name": "stderr",
          "text": [
            "/usr/local/lib/python3.7/dist-packages/seaborn/_decorators.py:43: FutureWarning: Pass the following variables as keyword args: x, y. From version 0.12, the only valid positional argument will be `data`, and passing other arguments without an explicit keyword will result in an error or misinterpretation.\n",
            "  FutureWarning\n"
          ]
        },
        {
          "output_type": "display_data",
          "data": {
            "text/plain": [
              "<Figure size 360x360 with 1 Axes>"
            ],
            "image/png": "[encoded data removed]"
          },
          "metadata": {
            "needs_background": "light"
          }
        }
      ]
    },
    {
      "cell_type": "code",
      "source": [
        ""
      ],
      "metadata": {
        "id": "_ax0O_BXTJ9q"
      },
      "execution_count": null,
      "outputs": []
    }
  ]
}